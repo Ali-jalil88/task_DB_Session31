{
 "cells": [
  {
   "cell_type": "markdown",
   "id": "4a8e275f-8799-47fe-88c5-efa18d6a8231",
   "metadata": {},
   "source": [
    "## task 4 Session 31\n",
    "## 1 - create amazon database \n",
    "## 1.1 - using Peewee\n",
    "## 2 - create 2 new tables:\n",
    "## 2.1    - products (name,price,category(relation),description)\n",
    "## 2.2   - category (name)\n",
    "## 3  - insert new data into products , category\n",
    "## 3.1  - using dummy data website , download 100 product and 10 category as 2 files in json or csv format \n",
    "## 3.2  - builk insert file data into products , category tables \n",
    "## 4  - select all products \n",
    "## 5  - select all products price > 30\n",
    "## 6  - get products wehre category = 'any_category_name'\n",
    "## 7  - count how many product in each category \n",
    "## 8  - export products into csv"
   ]
  },
  {
   "cell_type": "markdown",
   "id": "fa3f4c00-20ea-46a6-88d0-e11524c41b36",
   "metadata": {},
   "source": [
    "## -------------------------------------------------------------------------\n",
    "## 1 - create amazon database\n",
    "## 1.1 - using Peewee"
   ]
  },
  {
   "cell_type": "code",
   "execution_count": 188,
   "id": "12d33719-c4c4-4029-b3ce-8a0bf7f3af83",
   "metadata": {},
   "outputs": [
    {
     "name": "stdout",
     "output_type": "stream",
     "text": [
      "connect\n"
     ]
    }
   ],
   "source": [
    "from peewee import *\n",
    "db =MySQLDatabase(\n",
    "    \"amazon\",\n",
    "    user = \"root\",\n",
    "    password = \"1988\",\n",
    "    host = \"localhost\"\n",
    ")\n",
    "db.connect()\n",
    "print(\"connect\")"
   ]
  },
  {
   "cell_type": "markdown",
   "id": "66e16d8c-c073-4a38-9e1b-551cdc43eaf2",
   "metadata": {},
   "source": [
    "## -------------------------------------------------------------------------\n",
    "## 2 - create 2 new tables\n",
    "## 2.1 - products (name,price,category(relation),description)"
   ]
  },
  {
   "cell_type": "code",
   "execution_count": 89,
   "id": "bdcd9dab-094f-41ce-bd60-bf7bb2557537",
   "metadata": {},
   "outputs": [],
   "source": [
    "class Products(Model):\n",
    "    id = AutoField()\n",
    "    name = CharField()\n",
    "    price = FloatField()\n",
    "    description = CharField()\n",
    "    category = ForeignKeyField( Category , backref='relation')\n",
    "    class Meta:\n",
    "        database = db # create table on db \n",
    "db.create_tables([Products])"
   ]
  },
  {
   "cell_type": "markdown",
   "id": "85198a24-b9ad-4cb4-a13b-5d45a31d0aa4",
   "metadata": {},
   "source": [
    "## -------------------------------------------------------------------------\n",
    "## 2.2 - category (name)"
   ]
  },
  {
   "cell_type": "code",
   "execution_count": 88,
   "id": "3e1c37e7-868e-430a-9174-7cc909489508",
   "metadata": {},
   "outputs": [],
   "source": [
    "class Category(Model):\n",
    "    id = AutoField()\n",
    "    name = CharField()\n",
    "    class Meta:\n",
    "        database = db # create table on db \n",
    "db.create_tables([Category])"
   ]
  },
  {
   "cell_type": "markdown",
   "id": "fa974659-f93c-47f0-b572-1c45e1924017",
   "metadata": {},
   "source": [
    "## -------------------------------------------------------------------------\n",
    "## 3 - insert new data into products , category\n",
    "## 3.1 - using dummy data website , download 100 product as 1 files in json or csv format"
   ]
  },
  {
   "cell_type": "markdown",
   "id": "0afef329-f0c0-4d2c-9339-75923f6bf6c6",
   "metadata": {},
   "source": [
    "## -------------------------------------------------------------------------\n",
    "## 3 - insert new data into products , category\n",
    "## 3.1 - using dummy data website , download 10 category as 1 files in json or csv format"
   ]
  },
  {
   "cell_type": "markdown",
   "id": "6d198af1-16f6-4e9b-a67a-4638d9022920",
   "metadata": {},
   "source": [
    "## -------------------------------------------------------------------------\n",
    "## 3.2 - builk insert file data into products tables"
   ]
  },
  {
   "cell_type": "code",
   "execution_count": 99,
   "id": "179cfbf0-bf14-43a1-a0e0-a4aa41be848f",
   "metadata": {},
   "outputs": [],
   "source": [
    "import json\n",
    "f = open('prod_DATA.json')\n",
    "data = json.load(f)\n",
    " # insert 100 product using build insert \n",
    "for p in data:\n",
    "      Products.create(**p)"
   ]
  },
  {
   "cell_type": "markdown",
   "id": "e6f08cbc-1044-4bf9-a83e-a19800350e25",
   "metadata": {},
   "source": [
    "## -------------------------------------------------------------------------\n",
    "## 3.3 - builk insert file data into category tables"
   ]
  },
  {
   "cell_type": "code",
   "execution_count": 98,
   "id": "ac268d5f-a243-4aa9-b074-bbebb0284ad6",
   "metadata": {},
   "outputs": [],
   "source": [
    "import json\n",
    "f = open('category1_DATA.json')\n",
    "data = json.load(f)\n",
    " # insert 10 product using build insert \n",
    "for p in data:\n",
    "      Category.create(**p)"
   ]
  },
  {
   "cell_type": "markdown",
   "id": "6a721a1b-571d-410e-ac5a-8bc4d88606e5",
   "metadata": {},
   "source": [
    "## -------------------------------------------------------------------------\n",
    "## 4 - select all products"
   ]
  },
  {
   "cell_type": "code",
   "execution_count": null,
   "id": "8c89a948-ee50-4c55-a4c8-936e588513bb",
   "metadata": {},
   "outputs": [],
   "source": [
    "data = Products.select()\n",
    "for x in data:\n",
    "    print(x.name, x.price, x.category, x.description)"
   ]
  },
  {
   "cell_type": "markdown",
   "id": "35e26ce4-4c87-44d6-801d-9fa965842f3f",
   "metadata": {},
   "source": [
    "## -------------------------------------------------------------------------\n",
    "## 5 - select all products price > 30"
   ]
  },
  {
   "cell_type": "code",
   "execution_count": 116,
   "id": "4841f1b8-a7ed-4ae3-adaf-e34fab2c310d",
   "metadata": {},
   "outputs": [
    {
     "name": "stdout",
     "output_type": "stream",
     "text": [
      "98.7\n",
      "96.4\n",
      "98.4\n",
      "96.7\n",
      "99.4\n",
      "99.3\n",
      "97.2\n",
      "97.7\n",
      "99.8\n"
     ]
    }
   ],
   "source": [
    "# data = db.execute_sql('select * from Products where price > 30')\n",
    "# print(list(data))\n",
    "data = Products.select().where(Products.price > 95)\n",
    "for x in data:\n",
    "    print(x.price)"
   ]
  },
  {
   "cell_type": "markdown",
   "id": "42641e27-d57f-48ed-b80c-81b1d789702e",
   "metadata": {},
   "source": [
    "## -------------------------------------------------------------------------\n",
    "## 6 - get products wehre category = 'any_category_name'"
   ]
  },
  {
   "cell_type": "code",
   "execution_count": 189,
   "id": "2b8b162f-1bbd-4d08-8143-dffead078d13",
   "metadata": {},
   "outputs": [
    {
     "name": "stdout",
     "output_type": "stream",
     "text": [
      "Pears - Anjou 83.8 Osteoclasis NOS 1\n",
      "Nestea - Ice Tea, Diet 69.5 Drain face & mouth floor 1\n",
      "Muffin - Mix - Bran And Maple 15l 99.3 Abd contr phlebogram NEC 1\n",
      "Bar Mix - Lemon 56.1 Other incid appendectomy 1\n",
      "Persimmons 60.7 Splenotomy 1\n"
     ]
    }
   ],
   "source": [
    "data = Products.select().where(Products.category == 1 )\n",
    "for x in data:\n",
    "    print(x.name,x.price , x.description,x.category)\n",
    "# data = db.execute_sql('''SELECT * FROM products WHERE name = 'Tea Leaves - Oolong' ''')\n",
    "# print(list(data))\n",
    "# category_name = 'Corn - Mini'\n",
    "# products_in_category = Products.select().join(Category).where(Category.name == category_name)\n",
    "# data = Products.select().where(Products.name == 'Corn - Mini' )\n",
    "# for x in data:\n",
    "#     print(x.name)"
   ]
  },
  {
   "cell_type": "markdown",
   "id": "efad6380-bae4-4d53-a4ce-7055a4ccf07c",
   "metadata": {},
   "source": [
    "## -------------------------------------------------------------------------\n",
    "## 7 - count how many product in each category"
   ]
  },
  {
   "cell_type": "code",
   "execution_count": 192,
   "id": "6fffee30-ea34-4b45-a528-48da32e6ba6b",
   "metadata": {},
   "outputs": [
    {
     "name": "stdout",
     "output_type": "stream",
     "text": [
      "[('Pears - Anjou', 5), ('Tea Leaves - Oolong', 10), ('Calypso - Black Cherry Lemonade', 10), ('Pepper - Red Bell', 17), ('Tomatoes - Orange', 9), ('Oil - Hazelnut', 12), ('Egg - Salad Premix', 6), ('Buffalo - Short Rib Fresh', 7), ('Bread - Pita', 12), ('Wine - Black Tower Qr', 12)]\n"
     ]
    }
   ],
   "source": [
    "data = db.execute_sql('''SELECT name , count(*) as count from Products GROUP BY Category_id ''')\n",
    "print(list(data))"
   ]
  },
  {
   "cell_type": "markdown",
   "id": "661ef385-c859-4c4a-a179-393549d270be",
   "metadata": {},
   "source": [
    "## -------------------------------------------------------------------------\n",
    "## 8 - export products into csv"
   ]
  },
  {
   "cell_type": "code",
   "execution_count": 143,
   "id": "f4acd55a-9553-46f5-87b1-c38bddc0408c",
   "metadata": {},
   "outputs": [
    {
     "name": "stdout",
     "output_type": "stream",
     "text": [
      "Data exported to myfile.csv OK. \n"
     ]
    }
   ],
   "source": [
    "import csv\n",
    "file_name = \"myfile\"\n",
    "quer = db.execute_sql(\" select * from Products \")\n",
    "data = [x for x in quer]\n",
    "with open(f\"{file_name}.csv\" , mode='w', newline='') as file:\n",
    "    writer = csv.writer(file)\n",
    "    writer.writerow([ 'ID','name', 'price' , 'description',' category' ])\n",
    "    writer.writerows(data)\n",
    "print(f\"Data exported to {file_name}.csv OK. \")"
   ]
  },
  {
   "cell_type": "code",
   "execution_count": null,
   "id": "94f38c99-a886-448a-a158-08a65607f6d9",
   "metadata": {},
   "outputs": [],
   "source": []
  }
 ],
 "metadata": {
  "kernelspec": {
   "display_name": "Python 3 (ipykernel)",
   "language": "python",
   "name": "python3"
  },
  "language_info": {
   "codemirror_mode": {
    "name": "ipython",
    "version": 3
   },
   "file_extension": ".py",
   "mimetype": "text/x-python",
   "name": "python",
   "nbconvert_exporter": "python",
   "pygments_lexer": "ipython3",
   "version": "3.12.4"
  }
 },
 "nbformat": 4,
 "nbformat_minor": 5
}
